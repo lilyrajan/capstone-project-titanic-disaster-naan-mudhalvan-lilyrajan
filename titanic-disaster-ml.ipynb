{
 "cells": [
  {
   "cell_type": "markdown",
   "id": "b42a5d92",
   "metadata": {
    "papermill": {
     "duration": 0.034919,
     "end_time": "2021-12-30T13:02:02.708207",
     "exception": false,
     "start_time": "2021-12-30T13:02:02.673288",
     "status": "completed"
    },
    "tags": []
   },
   "source": [
    "**This is my first public Kaggle notebook!** I am happy to share my experience with you, Kagglers!\n",
    "\n",
    "**My roadmap:**\n",
    "\n",
    "* Importing dataset,\n",
    "* Visualization dataset,\n",
    "* Filling missing values,\n",
    "* Implementing LogisticRegression, \n",
    "* Use LogisticRegression to predict test dataset,\n",
    "* Upload my results to public leaderboard.\n",
    "\n"
   ]
  },
  {
   "cell_type": "code",
   "execution_count": 2,
   "id": "2166b64c",
   "metadata": {
    "execution": {
     "iopub.execute_input": "2021-12-30T13:02:02.785322Z",
     "iopub.status.busy": "2021-12-30T13:02:02.784690Z",
     "iopub.status.idle": "2021-12-30T13:02:03.828520Z",
     "shell.execute_reply": "2021-12-30T13:02:03.829514Z",
     "shell.execute_reply.started": "2021-12-30T12:58:53.927082Z"
    },
    "papermill": {
     "duration": 1.086442,
     "end_time": "2021-12-30T13:02:03.830011",
     "exception": false,
     "start_time": "2021-12-30T13:02:02.743569",
     "status": "completed"
    },
    "tags": []
   },
   "outputs": [],
   "source": [
    "import numpy as np \n",
    "import pandas as pd \n",
    "import seaborn as sns\n",
    "import os\n",
    "for dirname, _, filenames in os.walk('/kaggle/input'):\n",
    "    for filename in filenames:\n",
    "        print(os.path.join(dirname, filename))"
   ]
  },
  {
   "cell_type": "code",
   "execution_count": 3,
   "id": "9f15eaac",
   "metadata": {
    "execution": {
     "iopub.execute_input": "2021-12-30T13:02:03.902134Z",
     "iopub.status.busy": "2021-12-30T13:02:03.901480Z",
     "iopub.status.idle": "2021-12-30T13:02:03.934573Z",
     "shell.execute_reply": "2021-12-30T13:02:03.934027Z",
     "shell.execute_reply.started": "2021-12-30T12:58:53.938672Z"
    },
    "papermill": {
     "duration": 0.069566,
     "end_time": "2021-12-30T13:02:03.934764",
     "exception": false,
     "start_time": "2021-12-30T13:02:03.865198",
     "status": "completed"
    },
    "tags": []
   },
   "outputs": [],
   "source": [
    "df = pd.read_csv(\"train.csv\")\n",
    "test = pd.read_csv(\"test.csv\")"
   ]
  },
  {
   "cell_type": "code",
   "execution_count": 4,
   "id": "17814cd1",
   "metadata": {
    "execution": {
     "iopub.execute_input": "2021-12-30T13:02:04.006173Z",
     "iopub.status.busy": "2021-12-30T13:02:04.005471Z",
     "iopub.status.idle": "2021-12-30T13:02:04.029773Z",
     "shell.execute_reply": "2021-12-30T13:02:04.029212Z",
     "shell.execute_reply.started": "2021-12-30T12:58:53.960545Z"
    },
    "papermill": {
     "duration": 0.060522,
     "end_time": "2021-12-30T13:02:04.030023",
     "exception": false,
     "start_time": "2021-12-30T13:02:03.969501",
     "status": "completed"
    },
    "tags": []
   },
   "outputs": [
    {
     "data": {
      "text/html": [
       "<div>\n",
       "<style scoped>\n",
       "    .dataframe tbody tr th:only-of-type {\n",
       "        vertical-align: middle;\n",
       "    }\n",
       "\n",
       "    .dataframe tbody tr th {\n",
       "        vertical-align: top;\n",
       "    }\n",
       "\n",
       "    .dataframe thead th {\n",
       "        text-align: right;\n",
       "    }\n",
       "</style>\n",
       "<table border=\"1\" class=\"dataframe\">\n",
       "  <thead>\n",
       "    <tr style=\"text-align: right;\">\n",
       "      <th></th>\n",
       "      <th>PassengerId</th>\n",
       "      <th>Survived</th>\n",
       "      <th>Pclass</th>\n",
       "      <th>Name</th>\n",
       "      <th>Sex</th>\n",
       "      <th>Age</th>\n",
       "      <th>SibSp</th>\n",
       "      <th>Parch</th>\n",
       "      <th>Ticket</th>\n",
       "      <th>Fare</th>\n",
       "      <th>Cabin</th>\n",
       "      <th>Embarked</th>\n",
       "    </tr>\n",
       "  </thead>\n",
       "  <tbody>\n",
       "    <tr>\n",
       "      <th>0</th>\n",
       "      <td>1</td>\n",
       "      <td>0</td>\n",
       "      <td>3</td>\n",
       "      <td>Braund, Mr. Owen Harris</td>\n",
       "      <td>male</td>\n",
       "      <td>22.0</td>\n",
       "      <td>1</td>\n",
       "      <td>0</td>\n",
       "      <td>A/5 21171</td>\n",
       "      <td>7.2500</td>\n",
       "      <td>NaN</td>\n",
       "      <td>S</td>\n",
       "    </tr>\n",
       "    <tr>\n",
       "      <th>1</th>\n",
       "      <td>2</td>\n",
       "      <td>1</td>\n",
       "      <td>1</td>\n",
       "      <td>Cumings, Mrs. John Bradley (Florence Briggs Th...</td>\n",
       "      <td>female</td>\n",
       "      <td>38.0</td>\n",
       "      <td>1</td>\n",
       "      <td>0</td>\n",
       "      <td>PC 17599</td>\n",
       "      <td>71.2833</td>\n",
       "      <td>C85</td>\n",
       "      <td>C</td>\n",
       "    </tr>\n",
       "    <tr>\n",
       "      <th>2</th>\n",
       "      <td>3</td>\n",
       "      <td>1</td>\n",
       "      <td>3</td>\n",
       "      <td>Heikkinen, Miss. Laina</td>\n",
       "      <td>female</td>\n",
       "      <td>26.0</td>\n",
       "      <td>0</td>\n",
       "      <td>0</td>\n",
       "      <td>STON/O2. 3101282</td>\n",
       "      <td>7.9250</td>\n",
       "      <td>NaN</td>\n",
       "      <td>S</td>\n",
       "    </tr>\n",
       "    <tr>\n",
       "      <th>3</th>\n",
       "      <td>4</td>\n",
       "      <td>1</td>\n",
       "      <td>1</td>\n",
       "      <td>Futrelle, Mrs. Jacques Heath (Lily May Peel)</td>\n",
       "      <td>female</td>\n",
       "      <td>35.0</td>\n",
       "      <td>1</td>\n",
       "      <td>0</td>\n",
       "      <td>113803</td>\n",
       "      <td>53.1000</td>\n",
       "      <td>C123</td>\n",
       "      <td>S</td>\n",
       "    </tr>\n",
       "    <tr>\n",
       "      <th>4</th>\n",
       "      <td>5</td>\n",
       "      <td>0</td>\n",
       "      <td>3</td>\n",
       "      <td>Allen, Mr. William Henry</td>\n",
       "      <td>male</td>\n",
       "      <td>35.0</td>\n",
       "      <td>0</td>\n",
       "      <td>0</td>\n",
       "      <td>373450</td>\n",
       "      <td>8.0500</td>\n",
       "      <td>NaN</td>\n",
       "      <td>S</td>\n",
       "    </tr>\n",
       "  </tbody>\n",
       "</table>\n",
       "</div>"
      ],
      "text/plain": [
       "   PassengerId  Survived  Pclass  \\\n",
       "0            1         0       3   \n",
       "1            2         1       1   \n",
       "2            3         1       3   \n",
       "3            4         1       1   \n",
       "4            5         0       3   \n",
       "\n",
       "                                                Name     Sex   Age  SibSp  \\\n",
       "0                            Braund, Mr. Owen Harris    male  22.0      1   \n",
       "1  Cumings, Mrs. John Bradley (Florence Briggs Th...  female  38.0      1   \n",
       "2                             Heikkinen, Miss. Laina  female  26.0      0   \n",
       "3       Futrelle, Mrs. Jacques Heath (Lily May Peel)  female  35.0      1   \n",
       "4                           Allen, Mr. William Henry    male  35.0      0   \n",
       "\n",
       "   Parch            Ticket     Fare Cabin Embarked  \n",
       "0      0         A/5 21171   7.2500   NaN        S  \n",
       "1      0          PC 17599  71.2833   C85        C  \n",
       "2      0  STON/O2. 3101282   7.9250   NaN        S  \n",
       "3      0            113803  53.1000  C123        S  \n",
       "4      0            373450   8.0500   NaN        S  "
      ]
     },
     "execution_count": 4,
     "metadata": {},
     "output_type": "execute_result"
    }
   ],
   "source": [
    "df.head()"
   ]
  },
  {
   "cell_type": "code",
   "execution_count": 5,
   "id": "40788ee3",
   "metadata": {
    "execution": {
     "iopub.execute_input": "2021-12-30T13:02:04.104953Z",
     "iopub.status.busy": "2021-12-30T13:02:04.104321Z",
     "iopub.status.idle": "2021-12-30T13:02:04.117696Z",
     "shell.execute_reply": "2021-12-30T13:02:04.118305Z",
     "shell.execute_reply.started": "2021-12-30T12:58:53.979185Z"
    },
    "papermill": {
     "duration": 0.05237,
     "end_time": "2021-12-30T13:02:04.118470",
     "exception": false,
     "start_time": "2021-12-30T13:02:04.066100",
     "status": "completed"
    },
    "tags": []
   },
   "outputs": [
    {
     "data": {
      "text/html": [
       "<div>\n",
       "<style scoped>\n",
       "    .dataframe tbody tr th:only-of-type {\n",
       "        vertical-align: middle;\n",
       "    }\n",
       "\n",
       "    .dataframe tbody tr th {\n",
       "        vertical-align: top;\n",
       "    }\n",
       "\n",
       "    .dataframe thead th {\n",
       "        text-align: right;\n",
       "    }\n",
       "</style>\n",
       "<table border=\"1\" class=\"dataframe\">\n",
       "  <thead>\n",
       "    <tr style=\"text-align: right;\">\n",
       "      <th></th>\n",
       "      <th>PassengerId</th>\n",
       "      <th>Pclass</th>\n",
       "      <th>Name</th>\n",
       "      <th>Sex</th>\n",
       "      <th>Age</th>\n",
       "      <th>SibSp</th>\n",
       "      <th>Parch</th>\n",
       "      <th>Ticket</th>\n",
       "      <th>Fare</th>\n",
       "      <th>Cabin</th>\n",
       "      <th>Embarked</th>\n",
       "    </tr>\n",
       "  </thead>\n",
       "  <tbody>\n",
       "    <tr>\n",
       "      <th>413</th>\n",
       "      <td>1305</td>\n",
       "      <td>3</td>\n",
       "      <td>Spector, Mr. Woolf</td>\n",
       "      <td>male</td>\n",
       "      <td>NaN</td>\n",
       "      <td>0</td>\n",
       "      <td>0</td>\n",
       "      <td>A.5. 3236</td>\n",
       "      <td>8.0500</td>\n",
       "      <td>NaN</td>\n",
       "      <td>S</td>\n",
       "    </tr>\n",
       "    <tr>\n",
       "      <th>414</th>\n",
       "      <td>1306</td>\n",
       "      <td>1</td>\n",
       "      <td>Oliva y Ocana, Dona. Fermina</td>\n",
       "      <td>female</td>\n",
       "      <td>39.0</td>\n",
       "      <td>0</td>\n",
       "      <td>0</td>\n",
       "      <td>PC 17758</td>\n",
       "      <td>108.9000</td>\n",
       "      <td>C105</td>\n",
       "      <td>C</td>\n",
       "    </tr>\n",
       "    <tr>\n",
       "      <th>415</th>\n",
       "      <td>1307</td>\n",
       "      <td>3</td>\n",
       "      <td>Saether, Mr. Simon Sivertsen</td>\n",
       "      <td>male</td>\n",
       "      <td>38.5</td>\n",
       "      <td>0</td>\n",
       "      <td>0</td>\n",
       "      <td>SOTON/O.Q. 3101262</td>\n",
       "      <td>7.2500</td>\n",
       "      <td>NaN</td>\n",
       "      <td>S</td>\n",
       "    </tr>\n",
       "    <tr>\n",
       "      <th>416</th>\n",
       "      <td>1308</td>\n",
       "      <td>3</td>\n",
       "      <td>Ware, Mr. Frederick</td>\n",
       "      <td>male</td>\n",
       "      <td>NaN</td>\n",
       "      <td>0</td>\n",
       "      <td>0</td>\n",
       "      <td>359309</td>\n",
       "      <td>8.0500</td>\n",
       "      <td>NaN</td>\n",
       "      <td>S</td>\n",
       "    </tr>\n",
       "    <tr>\n",
       "      <th>417</th>\n",
       "      <td>1309</td>\n",
       "      <td>3</td>\n",
       "      <td>Peter, Master. Michael J</td>\n",
       "      <td>male</td>\n",
       "      <td>NaN</td>\n",
       "      <td>1</td>\n",
       "      <td>1</td>\n",
       "      <td>2668</td>\n",
       "      <td>22.3583</td>\n",
       "      <td>NaN</td>\n",
       "      <td>C</td>\n",
       "    </tr>\n",
       "  </tbody>\n",
       "</table>\n",
       "</div>"
      ],
      "text/plain": [
       "     PassengerId  Pclass                          Name     Sex   Age  SibSp  \\\n",
       "413         1305       3            Spector, Mr. Woolf    male   NaN      0   \n",
       "414         1306       1  Oliva y Ocana, Dona. Fermina  female  39.0      0   \n",
       "415         1307       3  Saether, Mr. Simon Sivertsen    male  38.5      0   \n",
       "416         1308       3           Ware, Mr. Frederick    male   NaN      0   \n",
       "417         1309       3      Peter, Master. Michael J    male   NaN      1   \n",
       "\n",
       "     Parch              Ticket      Fare Cabin Embarked  \n",
       "413      0           A.5. 3236    8.0500   NaN        S  \n",
       "414      0            PC 17758  108.9000  C105        C  \n",
       "415      0  SOTON/O.Q. 3101262    7.2500   NaN        S  \n",
       "416      0              359309    8.0500   NaN        S  \n",
       "417      1                2668   22.3583   NaN        C  "
      ]
     },
     "execution_count": 5,
     "metadata": {},
     "output_type": "execute_result"
    }
   ],
   "source": [
    "test.tail()"
   ]
  },
  {
   "cell_type": "markdown",
   "id": "31bd9a2d",
   "metadata": {
    "papermill": {
     "duration": 0.034184,
     "end_time": "2021-12-30T13:02:04.187460",
     "exception": false,
     "start_time": "2021-12-30T13:02:04.153276",
     "status": "completed"
    },
    "tags": []
   },
   "source": [
    "*df.head()* & *df.tail()* made similar work!"
   ]
  },
  {
   "cell_type": "markdown",
   "id": "8a1d1fb1",
   "metadata": {
    "papermill": {
     "duration": 0.034096,
     "end_time": "2021-12-30T13:02:04.256018",
     "exception": false,
     "start_time": "2021-12-30T13:02:04.221922",
     "status": "completed"
    },
    "tags": []
   },
   "source": [
    "First of all, I must change **Sex** from **Categorical format** to **Numerical format** in both *df* & *test*:"
   ]
  },
  {
   "cell_type": "code",
   "execution_count": 6,
   "id": "08f55374",
   "metadata": {
    "execution": {
     "iopub.execute_input": "2021-12-30T13:02:04.327918Z",
     "iopub.status.busy": "2021-12-30T13:02:04.327279Z",
     "iopub.status.idle": "2021-12-30T13:02:04.340465Z",
     "shell.execute_reply": "2021-12-30T13:02:04.340994Z",
     "shell.execute_reply.started": "2021-12-30T12:58:54.005078Z"
    },
    "papermill": {
     "duration": 0.050459,
     "end_time": "2021-12-30T13:02:04.341162",
     "exception": false,
     "start_time": "2021-12-30T13:02:04.290703",
     "status": "completed"
    },
    "tags": []
   },
   "outputs": [],
   "source": [
    "sex_bin = {\"female\": 0,   # Zero is female \n",
    "           \"male\": 1}     # One is for male\n",
    "df['Sex'] = df['Sex'].map(sex_bin)\n",
    "test['Sex'] = test['Sex'].map(sex_bin)"
   ]
  },
  {
   "cell_type": "code",
   "execution_count": 7,
   "id": "d7504de3",
   "metadata": {
    "execution": {
     "iopub.execute_input": "2021-12-30T13:02:04.412989Z",
     "iopub.status.busy": "2021-12-30T13:02:04.412363Z",
     "iopub.status.idle": "2021-12-30T13:02:04.652565Z",
     "shell.execute_reply": "2021-12-30T13:02:04.653073Z",
     "shell.execute_reply.started": "2021-12-30T12:58:54.014924Z"
    },
    "papermill": {
     "duration": 0.277511,
     "end_time": "2021-12-30T13:02:04.653261",
     "exception": false,
     "start_time": "2021-12-30T13:02:04.375750",
     "status": "completed"
    },
    "tags": []
   },
   "outputs": [
    {
     "data": {
      "text/plain": [
       "<Axes: xlabel='Sex', ylabel='count'>"
      ]
     },
     "execution_count": 7,
     "metadata": {},
     "output_type": "execute_result"
    },
    {
     "data": {
      "image/png": "[encoded data removed]",
      "text/plain": [
       "<Figure size 640x480 with 1 Axes>"
      ]
     },
     "metadata": {},
     "output_type": "display_data"
    }
   ],
   "source": [
    "sns.countplot(x=\"Sex\", hue=\"Survived\", data=df)"
   ]
  },
  {
   "cell_type": "markdown",
   "id": "50d010ff",
   "metadata": {
    "papermill": {
     "duration": 0.035877,
     "end_time": "2021-12-30T13:02:04.725160",
     "exception": false,
     "start_time": "2021-12-30T13:02:04.689283",
     "status": "completed"
    },
    "tags": []
   },
   "source": [
    "So to conclude from above plot:\n",
    "* majority of male are NOT survived\n",
    "* majority of female are survived\n",
    "* male are greater than female"
   ]
  },
  {
   "cell_type": "markdown",
   "id": "a1ad1b1c",
   "metadata": {
    "papermill": {
     "duration": 0.037428,
     "end_time": "2021-12-30T13:02:05.507900",
     "exception": false,
     "start_time": "2021-12-30T13:02:05.470472",
     "status": "completed"
    },
    "tags": []
   },
   "source": [
    "Let\\`s observe **heatmap**\n",
    "* Low correlations are between Survived and [Fare & Pclass]\n",
    "* Zero correlations are between Survived and [Age, SibSp, PassengerId and Parch]\n",
    "* Age & Pclass has normal negative correlation which means that Pclass maybe been devived into Age category\n",
    "* Fare & Pclass also have normolized negative correlation which is probably means relationship\n",
    "* Parch and SibSp have normal positive correlation value\n",
    "* PassengerId does not have any high or low correlation with other feature -> so we drop PassenderId\n",
    "\n",
    "**Those correlation results tell us that Zero correlation features should be eliminated.\n",
    "However, Age i think must stay for modelling.**"
   ]
  },
  {
   "cell_type": "code",
   "execution_count": 8,
   "id": "5853d4ec",
   "metadata": {
    "execution": {
     "iopub.execute_input": "2021-12-30T13:02:05.589997Z",
     "iopub.status.busy": "2021-12-30T13:02:05.589007Z",
     "iopub.status.idle": "2021-12-30T13:02:05.603524Z",
     "shell.execute_reply": "2021-12-30T13:02:05.604058Z",
     "shell.execute_reply.started": "2021-12-30T12:58:54.872624Z"
    },
    "papermill": {
     "duration": 0.058347,
     "end_time": "2021-12-30T13:02:05.604263",
     "exception": false,
     "start_time": "2021-12-30T13:02:05.545916",
     "status": "completed"
    },
    "tags": []
   },
   "outputs": [
    {
     "name": "stdout",
     "output_type": "stream",
     "text": [
      "<class 'pandas.core.frame.DataFrame'>\n",
      "RangeIndex: 891 entries, 0 to 890\n",
      "Data columns (total 12 columns):\n",
      " #   Column       Non-Null Count  Dtype  \n",
      "---  ------       --------------  -----  \n",
      " 0   PassengerId  891 non-null    int64  \n",
      " 1   Survived     891 non-null    int64  \n",
      " 2   Pclass       891 non-null    int64  \n",
      " 3   Name         891 non-null    object \n",
      " 4   Sex          891 non-null    int64  \n",
      " 5   Age          714 non-null    float64\n",
      " 6   SibSp        891 non-null    int64  \n",
      " 7   Parch        891 non-null    int64  \n",
      " 8   Ticket       891 non-null    object \n",
      " 9   Fare         891 non-null    float64\n",
      " 10  Cabin        204 non-null    object \n",
      " 11  Embarked     889 non-null    object \n",
      "dtypes: float64(2), int64(6), object(4)\n",
      "memory usage: 83.7+ KB\n"
     ]
    }
   ],
   "source": [
    "df.info()"
   ]
  },
  {
   "cell_type": "markdown",
   "id": "76fc217a",
   "metadata": {
    "papermill": {
     "duration": 0.037719,
     "end_time": "2021-12-30T13:02:05.679813",
     "exception": false,
     "start_time": "2021-12-30T13:02:05.642094",
     "status": "completed"
    },
    "tags": []
   },
   "source": [
    "**Age** has many missing values!\n",
    "\n",
    "**Cabin** has only about 25% out of 100% values!\n",
    "\n",
    "**Embarked** has double missing values!"
   ]
  },
  {
   "cell_type": "markdown",
   "id": "8a6bb88a",
   "metadata": {
    "papermill": {
     "duration": 0.038435,
     "end_time": "2021-12-30T13:02:05.756071",
     "exception": false,
     "start_time": "2021-12-30T13:02:05.717636",
     "status": "completed"
    },
    "tags": []
   },
   "source": [
    "My plan for replacing **Age** is to use mean() function for each title in **Name**\n",
    "\n",
    "I will remove **Cabin** from dataframe because I find it  irrelevant\n",
    "\n",
    "I will use  the most popular value instead of  missing values in **Embarked**\n"
   ]
  },
  {
   "cell_type": "code",
   "execution_count": 9,
   "id": "760c6822",
   "metadata": {
    "execution": {
     "iopub.execute_input": "2021-12-30T13:02:05.835075Z",
     "iopub.status.busy": "2021-12-30T13:02:05.834412Z",
     "iopub.status.idle": "2021-12-30T13:02:05.838397Z",
     "shell.execute_reply": "2021-12-30T13:02:05.838925Z",
     "shell.execute_reply.started": "2021-12-30T12:58:54.887855Z"
    },
    "papermill": {
     "duration": 0.045462,
     "end_time": "2021-12-30T13:02:05.839106",
     "exception": false,
     "start_time": "2021-12-30T13:02:05.793644",
     "status": "completed"
    },
    "tags": []
   },
   "outputs": [],
   "source": [
    "def get_title(name):\n",
    "    first = name.split(',')\n",
    "    second = first[1].split('.')\n",
    "    return second[0]\n"
   ]
  },
  {
   "cell_type": "code",
   "execution_count": 10,
   "id": "4ead4c56",
   "metadata": {
    "execution": {
     "iopub.execute_input": "2021-12-30T13:02:05.918556Z",
     "iopub.status.busy": "2021-12-30T13:02:05.917931Z",
     "iopub.status.idle": "2021-12-30T13:02:05.923860Z",
     "shell.execute_reply": "2021-12-30T13:02:05.924408Z",
     "shell.execute_reply.started": "2021-12-30T12:58:54.898362Z"
    },
    "papermill": {
     "duration": 0.047133,
     "end_time": "2021-12-30T13:02:05.924592",
     "exception": false,
     "start_time": "2021-12-30T13:02:05.877459",
     "status": "completed"
    },
    "tags": []
   },
   "outputs": [],
   "source": [
    "df.Name = df.Name.apply(get_title)\n",
    "test.Name = test.Name.apply(get_title)"
   ]
  },
  {
   "cell_type": "markdown",
   "id": "e78238d6",
   "metadata": {
    "papermill": {
     "duration": 0.039566,
     "end_time": "2021-12-30T13:02:06.002549",
     "exception": false,
     "start_time": "2021-12-30T13:02:05.962983",
     "status": "completed"
    },
    "tags": []
   },
   "source": [
    "We REPLACED NAME TO TITLE:\n",
    "* 17 UNIQUE TITLES\n",
    "* TITLES ARE HELPFUL FOR PREDICTING AGE \n",
    "* TITLE HELPS TO PREDICT OTHER MISSING VALUES\n",
    "* NOW I AM ANALYSING TITLES AND OTHER FEATURES\n"
   ]
  },
  {
   "cell_type": "code",
   "execution_count": 11,
   "id": "a707b39d",
   "metadata": {
    "execution": {
     "iopub.execute_input": "2021-12-30T13:02:06.091223Z",
     "iopub.status.busy": "2021-12-30T13:02:06.089693Z",
     "iopub.status.idle": "2021-12-30T13:02:06.092014Z",
     "shell.execute_reply": "2021-12-30T13:02:06.092506Z",
     "shell.execute_reply.started": "2021-12-30T12:58:54.913482Z"
    },
    "papermill": {
     "duration": 0.050431,
     "end_time": "2021-12-30T13:02:06.092678",
     "exception": false,
     "start_time": "2021-12-30T13:02:06.042247",
     "status": "completed"
    },
    "tags": []
   },
   "outputs": [],
   "source": [
    "def best_age(name):\n",
    "    return df.loc[(df.Name == name)].Age.mean()"
   ]
  },
  {
   "cell_type": "code",
   "execution_count": 12,
   "id": "1434575f",
   "metadata": {
    "execution": {
     "iopub.execute_input": "2021-12-30T13:02:06.179247Z",
     "iopub.status.busy": "2021-12-30T13:02:06.178580Z",
     "iopub.status.idle": "2021-12-30T13:02:06.215731Z",
     "shell.execute_reply": "2021-12-30T13:02:06.215170Z",
     "shell.execute_reply.started": "2021-12-30T12:58:54.926989Z"
    },
    "papermill": {
     "duration": 0.080219,
     "end_time": "2021-12-30T13:02:06.215883",
     "exception": false,
     "start_time": "2021-12-30T13:02:06.135664",
     "status": "completed"
    },
    "tags": []
   },
   "outputs": [
    {
     "name": "stdout",
     "output_type": "stream",
     "text": [
      " Mr & 119\n",
      "32.368090452261306\n",
      " Mrs & 17\n",
      "35.898148148148145\n",
      " Miss & 36\n",
      "21.773972602739725\n",
      " Master & 4\n",
      "4.574166666666667\n",
      " Dr & 1\n",
      "42.0\n"
     ]
    }
   ],
   "source": [
    "for i in df.Name.unique():\n",
    "    if (df.loc[(df.Name == i)].Age.isnull().sum()) > 0:\n",
    "        print(i, \"&\", df.loc[(df.Name == i)].Age.isnull().sum())\n",
    "        print(best_age(i))"
   ]
  },
  {
   "cell_type": "markdown",
   "id": "4ac40020",
   "metadata": {
    "papermill": {
     "duration": 0.039694,
     "end_time": "2021-12-30T13:02:06.295017",
     "exception": false,
     "start_time": "2021-12-30T13:02:06.255323",
     "status": "completed"
    },
    "tags": []
   },
   "source": [
    "Here is values for missing values in **Age** column"
   ]
  },
  {
   "cell_type": "code",
   "execution_count": 13,
   "id": "260b0f7f",
   "metadata": {
    "execution": {
     "iopub.execute_input": "2021-12-30T13:02:06.379115Z",
     "iopub.status.busy": "2021-12-30T13:02:06.375970Z",
     "iopub.status.idle": "2021-12-30T13:02:07.319084Z",
     "shell.execute_reply": "2021-12-30T13:02:07.318379Z",
     "shell.execute_reply.started": "2021-12-30T12:58:54.966041Z"
    },
    "papermill": {
     "duration": 0.985047,
     "end_time": "2021-12-30T13:02:07.319288",
     "exception": false,
     "start_time": "2021-12-30T13:02:06.334241",
     "status": "completed"
    },
    "tags": []
   },
   "outputs": [],
   "source": [
    "df.Age=df.Age.fillna(df.Name.apply(best_age))\n",
    "test.Age=test.Age.fillna(test.Name.apply(best_age))"
   ]
  },
  {
   "cell_type": "code",
   "execution_count": 14,
   "id": "61570350",
   "metadata": {
    "execution": {
     "iopub.execute_input": "2021-12-30T13:02:07.424821Z",
     "iopub.status.busy": "2021-12-30T13:02:07.424107Z",
     "iopub.status.idle": "2021-12-30T13:02:07.435832Z",
     "shell.execute_reply": "2021-12-30T13:02:07.436644Z",
     "shell.execute_reply.started": "2021-12-30T12:58:55.884592Z"
    },
    "papermill": {
     "duration": 0.057246,
     "end_time": "2021-12-30T13:02:07.436920",
     "exception": false,
     "start_time": "2021-12-30T13:02:07.379674",
     "status": "completed"
    },
    "tags": []
   },
   "outputs": [
    {
     "data": {
      "text/plain": [
       "PassengerId      0\n",
       "Survived         0\n",
       "Pclass           0\n",
       "Name             0\n",
       "Sex              0\n",
       "Age              0\n",
       "SibSp            0\n",
       "Parch            0\n",
       "Ticket           0\n",
       "Fare             0\n",
       "Cabin          687\n",
       "Embarked         2\n",
       "dtype: int64"
      ]
     },
     "execution_count": 14,
     "metadata": {},
     "output_type": "execute_result"
    }
   ],
   "source": [
    "df.isnull().sum()"
   ]
  },
  {
   "cell_type": "markdown",
   "id": "033745db",
   "metadata": {
    "papermill": {
     "duration": 0.041263,
     "end_time": "2021-12-30T13:02:07.521699",
     "exception": false,
     "start_time": "2021-12-30T13:02:07.480436",
     "status": "completed"
    },
    "tags": []
   },
   "source": [
    "* Age column has many missing values \n",
    "* Cabin column also has many missing values \n",
    "* Embarked column has 2 missing values\n",
    "Now i should replace missing value to reallistic values:\n"
   ]
  },
  {
   "cell_type": "code",
   "execution_count": 15,
   "id": "0886a330",
   "metadata": {
    "execution": {
     "iopub.execute_input": "2021-12-30T13:02:07.603963Z",
     "iopub.status.busy": "2021-12-30T13:02:07.603294Z",
     "iopub.status.idle": "2021-12-30T13:02:07.613196Z",
     "shell.execute_reply": "2021-12-30T13:02:07.613805Z",
     "shell.execute_reply.started": "2021-12-30T12:58:55.895385Z"
    },
    "papermill": {
     "duration": 0.052425,
     "end_time": "2021-12-30T13:02:07.613975",
     "exception": false,
     "start_time": "2021-12-30T13:02:07.561550",
     "status": "completed"
    },
    "tags": []
   },
   "outputs": [
    {
     "data": {
      "text/plain": [
       "PassengerId      0\n",
       "Pclass           0\n",
       "Name             0\n",
       "Sex              0\n",
       "Age              0\n",
       "SibSp            0\n",
       "Parch            0\n",
       "Ticket           0\n",
       "Fare             1\n",
       "Cabin          327\n",
       "Embarked         0\n",
       "dtype: int64"
      ]
     },
     "execution_count": 15,
     "metadata": {},
     "output_type": "execute_result"
    }
   ],
   "source": [
    "test.isnull().sum()"
   ]
  },
  {
   "cell_type": "markdown",
   "id": "a46be186",
   "metadata": {
    "papermill": {
     "duration": 0.039039,
     "end_time": "2021-12-30T13:02:07.692064",
     "exception": false,
     "start_time": "2021-12-30T13:02:07.653025",
     "status": "completed"
    },
    "tags": []
   },
   "source": [
    "In **test** dataframe, i have one missing value in **Fare** & 327 inn **Cabin**"
   ]
  },
  {
   "cell_type": "code",
   "execution_count": 16,
   "id": "72cf68e7",
   "metadata": {
    "execution": {
     "iopub.execute_input": "2021-12-30T13:02:07.778905Z",
     "iopub.status.busy": "2021-12-30T13:02:07.777930Z",
     "iopub.status.idle": "2021-12-30T13:02:07.780111Z",
     "shell.execute_reply": "2021-12-30T13:02:07.780683Z",
     "shell.execute_reply.started": "2021-12-30T12:58:55.910971Z"
    },
    "papermill": {
     "duration": 0.049527,
     "end_time": "2021-12-30T13:02:07.780889",
     "exception": false,
     "start_time": "2021-12-30T13:02:07.731362",
     "status": "completed"
    },
    "tags": []
   },
   "outputs": [],
   "source": [
    "y_train = df.Survived \n",
    "X_train = df.drop(\"Survived\", axis=1) # remove Survived from dataframe\n"
   ]
  },
  {
   "cell_type": "code",
   "execution_count": 17,
   "id": "1a48e5f4",
   "metadata": {
    "execution": {
     "iopub.execute_input": "2021-12-30T13:02:07.863317Z",
     "iopub.status.busy": "2021-12-30T13:02:07.862343Z",
     "iopub.status.idle": "2021-12-30T13:02:07.867650Z",
     "shell.execute_reply": "2021-12-30T13:02:07.868301Z",
     "shell.execute_reply.started": "2021-12-30T12:58:55.920694Z"
    },
    "papermill": {
     "duration": 0.048104,
     "end_time": "2021-12-30T13:02:07.868473",
     "exception": false,
     "start_time": "2021-12-30T13:02:07.820369",
     "status": "completed"
    },
    "tags": []
   },
   "outputs": [],
   "source": [
    "X_train = X_train.drop([\"Ticket\", \"Cabin\", \"PassengerId\"], axis=1) # removing other 3 figures from dataset"
   ]
  },
  {
   "cell_type": "code",
   "execution_count": 18,
   "id": "a3af61c9",
   "metadata": {
    "execution": {
     "iopub.execute_input": "2021-12-30T13:02:07.955171Z",
     "iopub.status.busy": "2021-12-30T13:02:07.954195Z",
     "iopub.status.idle": "2021-12-30T13:02:07.959841Z",
     "shell.execute_reply": "2021-12-30T13:02:07.960429Z",
     "shell.execute_reply.started": "2021-12-30T12:58:55.934528Z"
    },
    "papermill": {
     "duration": 0.048896,
     "end_time": "2021-12-30T13:02:07.960595",
     "exception": false,
     "start_time": "2021-12-30T13:02:07.911699",
     "status": "completed"
    },
    "tags": []
   },
   "outputs": [
    {
     "data": {
      "text/plain": [
       "Index(['Pclass', 'Name', 'Sex', 'Age', 'SibSp', 'Parch', 'Fare', 'Embarked'], dtype='object')"
      ]
     },
     "execution_count": 18,
     "metadata": {},
     "output_type": "execute_result"
    }
   ],
   "source": [
    "X_train.columns"
   ]
  },
  {
   "cell_type": "code",
   "execution_count": 19,
   "id": "bad1c5fe",
   "metadata": {
    "execution": {
     "iopub.execute_input": "2021-12-30T13:02:08.042869Z",
     "iopub.status.busy": "2021-12-30T13:02:08.041912Z",
     "iopub.status.idle": "2021-12-30T13:02:08.054952Z",
     "shell.execute_reply": "2021-12-30T13:02:08.055540Z",
     "shell.execute_reply.started": "2021-12-30T12:58:55.944887Z"
    },
    "papermill": {
     "duration": 0.055745,
     "end_time": "2021-12-30T13:02:08.055706",
     "exception": false,
     "start_time": "2021-12-30T13:02:07.999961",
     "status": "completed"
    },
    "tags": []
   },
   "outputs": [
    {
     "data": {
      "text/html": [
       "<div>\n",
       "<style scoped>\n",
       "    .dataframe tbody tr th:only-of-type {\n",
       "        vertical-align: middle;\n",
       "    }\n",
       "\n",
       "    .dataframe tbody tr th {\n",
       "        vertical-align: top;\n",
       "    }\n",
       "\n",
       "    .dataframe thead th {\n",
       "        text-align: right;\n",
       "    }\n",
       "</style>\n",
       "<table border=\"1\" class=\"dataframe\">\n",
       "  <thead>\n",
       "    <tr style=\"text-align: right;\">\n",
       "      <th></th>\n",
       "      <th>Pclass</th>\n",
       "      <th>Name</th>\n",
       "      <th>Sex</th>\n",
       "      <th>Age</th>\n",
       "      <th>SibSp</th>\n",
       "      <th>Parch</th>\n",
       "      <th>Fare</th>\n",
       "      <th>Embarked</th>\n",
       "    </tr>\n",
       "  </thead>\n",
       "  <tbody>\n",
       "    <tr>\n",
       "      <th>61</th>\n",
       "      <td>1</td>\n",
       "      <td>Miss</td>\n",
       "      <td>0</td>\n",
       "      <td>38.0</td>\n",
       "      <td>0</td>\n",
       "      <td>0</td>\n",
       "      <td>80.0</td>\n",
       "      <td>NaN</td>\n",
       "    </tr>\n",
       "    <tr>\n",
       "      <th>829</th>\n",
       "      <td>1</td>\n",
       "      <td>Mrs</td>\n",
       "      <td>0</td>\n",
       "      <td>62.0</td>\n",
       "      <td>0</td>\n",
       "      <td>0</td>\n",
       "      <td>80.0</td>\n",
       "      <td>NaN</td>\n",
       "    </tr>\n",
       "  </tbody>\n",
       "</table>\n",
       "</div>"
      ],
      "text/plain": [
       "     Pclass   Name  Sex   Age  SibSp  Parch  Fare Embarked\n",
       "61        1   Miss    0  38.0      0      0  80.0      NaN\n",
       "829       1    Mrs    0  62.0      0      0  80.0      NaN"
      ]
     },
     "execution_count": 19,
     "metadata": {},
     "output_type": "execute_result"
    }
   ],
   "source": [
    "X_train.loc[(X_train.Embarked.isnull())]"
   ]
  },
  {
   "cell_type": "markdown",
   "id": "07db1b46",
   "metadata": {
    "papermill": {
     "duration": 0.039396,
     "end_time": "2021-12-30T13:02:08.134539",
     "exception": false,
     "start_time": "2021-12-30T13:02:08.095143",
     "status": "completed"
    },
    "tags": []
   },
   "source": [
    "*As you see, We have two missing value in Embarked for Miss and Mrs*"
   ]
  },
  {
   "cell_type": "code",
   "execution_count": 20,
   "id": "8cd12ff1",
   "metadata": {
    "execution": {
     "iopub.execute_input": "2021-12-30T13:02:08.218636Z",
     "iopub.status.busy": "2021-12-30T13:02:08.217690Z",
     "iopub.status.idle": "2021-12-30T13:02:08.228986Z",
     "shell.execute_reply": "2021-12-30T13:02:08.229547Z",
     "shell.execute_reply.started": "2021-12-30T12:58:55.964315Z"
    },
    "papermill": {
     "duration": 0.055073,
     "end_time": "2021-12-30T13:02:08.229735",
     "exception": false,
     "start_time": "2021-12-30T13:02:08.174662",
     "status": "completed"
    },
    "tags": []
   },
   "outputs": [
    {
     "data": {
      "text/plain": [
       "Pclass      55\n",
       "Name        55\n",
       "Sex         55\n",
       "Age         55\n",
       "SibSp       55\n",
       "Parch       55\n",
       "Fare        55\n",
       "Embarked    55\n",
       "dtype: int64"
      ]
     },
     "execution_count": 20,
     "metadata": {},
     "output_type": "execute_result"
    }
   ],
   "source": [
    "X_train.loc[(X_train.Name == \" Miss\") & (X_train.SibSp == 0) & (X_train.Parch== 0) & (X_train.Embarked == \"S\")].count()  # most popular -> \"S\" => X_train.Embarked == \"S\"  "
   ]
  },
  {
   "cell_type": "code",
   "execution_count": 21,
   "id": "570c5971",
   "metadata": {
    "execution": {
     "iopub.execute_input": "2021-12-30T13:02:08.314188Z",
     "iopub.status.busy": "2021-12-30T13:02:08.313209Z",
     "iopub.status.idle": "2021-12-30T13:02:08.330536Z",
     "shell.execute_reply": "2021-12-30T13:02:08.331108Z",
     "shell.execute_reply.started": "2021-12-30T12:58:55.977586Z"
    },
    "papermill": {
     "duration": 0.061421,
     "end_time": "2021-12-30T13:02:08.331295",
     "exception": false,
     "start_time": "2021-12-30T13:02:08.269874",
     "status": "completed"
    },
    "tags": []
   },
   "outputs": [
    {
     "data": {
      "text/html": [
       "<div>\n",
       "<style scoped>\n",
       "    .dataframe tbody tr th:only-of-type {\n",
       "        vertical-align: middle;\n",
       "    }\n",
       "\n",
       "    .dataframe tbody tr th {\n",
       "        vertical-align: top;\n",
       "    }\n",
       "\n",
       "    .dataframe thead th {\n",
       "        text-align: right;\n",
       "    }\n",
       "</style>\n",
       "<table border=\"1\" class=\"dataframe\">\n",
       "  <thead>\n",
       "    <tr style=\"text-align: right;\">\n",
       "      <th></th>\n",
       "      <th>Pclass</th>\n",
       "      <th>Name</th>\n",
       "      <th>Sex</th>\n",
       "      <th>Age</th>\n",
       "      <th>SibSp</th>\n",
       "      <th>Parch</th>\n",
       "      <th>Fare</th>\n",
       "      <th>Embarked</th>\n",
       "    </tr>\n",
       "  </thead>\n",
       "  <tbody>\n",
       "    <tr>\n",
       "      <th>15</th>\n",
       "      <td>2</td>\n",
       "      <td>Mrs</td>\n",
       "      <td>0</td>\n",
       "      <td>55.000000</td>\n",
       "      <td>0</td>\n",
       "      <td>0</td>\n",
       "      <td>16.0000</td>\n",
       "      <td>S</td>\n",
       "    </tr>\n",
       "    <tr>\n",
       "      <th>66</th>\n",
       "      <td>2</td>\n",
       "      <td>Mrs</td>\n",
       "      <td>0</td>\n",
       "      <td>29.000000</td>\n",
       "      <td>0</td>\n",
       "      <td>0</td>\n",
       "      <td>10.5000</td>\n",
       "      <td>S</td>\n",
       "    </tr>\n",
       "    <tr>\n",
       "      <th>161</th>\n",
       "      <td>2</td>\n",
       "      <td>Mrs</td>\n",
       "      <td>0</td>\n",
       "      <td>40.000000</td>\n",
       "      <td>0</td>\n",
       "      <td>0</td>\n",
       "      <td>15.7500</td>\n",
       "      <td>S</td>\n",
       "    </tr>\n",
       "    <tr>\n",
       "      <th>190</th>\n",
       "      <td>2</td>\n",
       "      <td>Mrs</td>\n",
       "      <td>0</td>\n",
       "      <td>32.000000</td>\n",
       "      <td>0</td>\n",
       "      <td>0</td>\n",
       "      <td>13.0000</td>\n",
       "      <td>S</td>\n",
       "    </tr>\n",
       "    <tr>\n",
       "      <th>327</th>\n",
       "      <td>2</td>\n",
       "      <td>Mrs</td>\n",
       "      <td>0</td>\n",
       "      <td>36.000000</td>\n",
       "      <td>0</td>\n",
       "      <td>0</td>\n",
       "      <td>13.0000</td>\n",
       "      <td>S</td>\n",
       "    </tr>\n",
       "    <tr>\n",
       "      <th>399</th>\n",
       "      <td>2</td>\n",
       "      <td>Mrs</td>\n",
       "      <td>0</td>\n",
       "      <td>28.000000</td>\n",
       "      <td>0</td>\n",
       "      <td>0</td>\n",
       "      <td>12.6500</td>\n",
       "      <td>S</td>\n",
       "    </tr>\n",
       "    <tr>\n",
       "      <th>415</th>\n",
       "      <td>3</td>\n",
       "      <td>Mrs</td>\n",
       "      <td>0</td>\n",
       "      <td>35.898148</td>\n",
       "      <td>0</td>\n",
       "      <td>0</td>\n",
       "      <td>8.0500</td>\n",
       "      <td>S</td>\n",
       "    </tr>\n",
       "    <tr>\n",
       "      <th>483</th>\n",
       "      <td>3</td>\n",
       "      <td>Mrs</td>\n",
       "      <td>0</td>\n",
       "      <td>63.000000</td>\n",
       "      <td>0</td>\n",
       "      <td>0</td>\n",
       "      <td>9.5875</td>\n",
       "      <td>S</td>\n",
       "    </tr>\n",
       "    <tr>\n",
       "      <th>516</th>\n",
       "      <td>2</td>\n",
       "      <td>Mrs</td>\n",
       "      <td>0</td>\n",
       "      <td>34.000000</td>\n",
       "      <td>0</td>\n",
       "      <td>0</td>\n",
       "      <td>10.5000</td>\n",
       "      <td>S</td>\n",
       "    </tr>\n",
       "    <tr>\n",
       "      <th>706</th>\n",
       "      <td>2</td>\n",
       "      <td>Mrs</td>\n",
       "      <td>0</td>\n",
       "      <td>45.000000</td>\n",
       "      <td>0</td>\n",
       "      <td>0</td>\n",
       "      <td>13.5000</td>\n",
       "      <td>S</td>\n",
       "    </tr>\n",
       "    <tr>\n",
       "      <th>772</th>\n",
       "      <td>2</td>\n",
       "      <td>Mrs</td>\n",
       "      <td>0</td>\n",
       "      <td>57.000000</td>\n",
       "      <td>0</td>\n",
       "      <td>0</td>\n",
       "      <td>10.5000</td>\n",
       "      <td>S</td>\n",
       "    </tr>\n",
       "    <tr>\n",
       "      <th>797</th>\n",
       "      <td>3</td>\n",
       "      <td>Mrs</td>\n",
       "      <td>0</td>\n",
       "      <td>31.000000</td>\n",
       "      <td>0</td>\n",
       "      <td>0</td>\n",
       "      <td>8.6833</td>\n",
       "      <td>S</td>\n",
       "    </tr>\n",
       "    <tr>\n",
       "      <th>862</th>\n",
       "      <td>1</td>\n",
       "      <td>Mrs</td>\n",
       "      <td>0</td>\n",
       "      <td>48.000000</td>\n",
       "      <td>0</td>\n",
       "      <td>0</td>\n",
       "      <td>25.9292</td>\n",
       "      <td>S</td>\n",
       "    </tr>\n",
       "    <tr>\n",
       "      <th>865</th>\n",
       "      <td>2</td>\n",
       "      <td>Mrs</td>\n",
       "      <td>0</td>\n",
       "      <td>42.000000</td>\n",
       "      <td>0</td>\n",
       "      <td>0</td>\n",
       "      <td>13.0000</td>\n",
       "      <td>S</td>\n",
       "    </tr>\n",
       "  </tbody>\n",
       "</table>\n",
       "</div>"
      ],
      "text/plain": [
       "     Pclass  Name  Sex        Age  SibSp  Parch     Fare Embarked\n",
       "15        2   Mrs    0  55.000000      0      0  16.0000        S\n",
       "66        2   Mrs    0  29.000000      0      0  10.5000        S\n",
       "161       2   Mrs    0  40.000000      0      0  15.7500        S\n",
       "190       2   Mrs    0  32.000000      0      0  13.0000        S\n",
       "327       2   Mrs    0  36.000000      0      0  13.0000        S\n",
       "399       2   Mrs    0  28.000000      0      0  12.6500        S\n",
       "415       3   Mrs    0  35.898148      0      0   8.0500        S\n",
       "483       3   Mrs    0  63.000000      0      0   9.5875        S\n",
       "516       2   Mrs    0  34.000000      0      0  10.5000        S\n",
       "706       2   Mrs    0  45.000000      0      0  13.5000        S\n",
       "772       2   Mrs    0  57.000000      0      0  10.5000        S\n",
       "797       3   Mrs    0  31.000000      0      0   8.6833        S\n",
       "862       1   Mrs    0  48.000000      0      0  25.9292        S\n",
       "865       2   Mrs    0  42.000000      0      0  13.0000        S"
      ]
     },
     "execution_count": 21,
     "metadata": {},
     "output_type": "execute_result"
    }
   ],
   "source": [
    "X_train.loc[(X_train.Name == \" Mrs\") & (X_train.SibSp == 0) & (X_train.Parch== 0) & (X_train.Embarked == \"S\")]"
   ]
  },
  {
   "cell_type": "code",
   "execution_count": 22,
   "id": "139cc7ed",
   "metadata": {
    "execution": {
     "iopub.execute_input": "2021-12-30T13:02:08.417271Z",
     "iopub.status.busy": "2021-12-30T13:02:08.416303Z",
     "iopub.status.idle": "2021-12-30T13:02:08.420841Z",
     "shell.execute_reply": "2021-12-30T13:02:08.421372Z",
     "shell.execute_reply.started": "2021-12-30T12:58:56.001975Z"
    },
    "papermill": {
     "duration": 0.049261,
     "end_time": "2021-12-30T13:02:08.421537",
     "exception": false,
     "start_time": "2021-12-30T13:02:08.372276",
     "status": "completed"
    },
    "tags": []
   },
   "outputs": [
    {
     "name": "stderr",
     "output_type": "stream",
     "text": [
      "C:\\Users\\Mech 6\\AppData\\Local\\Temp\\ipykernel_8428\\191215274.py:1: FutureWarning: A value is trying to be set on a copy of a DataFrame or Series through chained assignment using an inplace method.\n",
      "The behavior will change in pandas 3.0. This inplace method will never work because the intermediate object on which we are setting values always behaves as a copy.\n",
      "\n",
      "For example, when doing 'df[col].method(value, inplace=True)', try using 'df.method({col: value}, inplace=True)' or df[col] = df[col].method(value) instead, to perform the operation inplace on the original object.\n",
      "\n",
      "\n",
      "  X_train.Embarked.fillna(\"S\", inplace=True)\n"
     ]
    }
   ],
   "source": [
    "X_train.Embarked.fillna(\"S\", inplace=True)"
   ]
  },
  {
   "cell_type": "code",
   "execution_count": 23,
   "id": "5bfa0095",
   "metadata": {
    "execution": {
     "iopub.execute_input": "2021-12-30T13:02:08.510426Z",
     "iopub.status.busy": "2021-12-30T13:02:08.509702Z",
     "iopub.status.idle": "2021-12-30T13:02:08.512258Z",
     "shell.execute_reply": "2021-12-30T13:02:08.511620Z",
     "shell.execute_reply.started": "2021-12-30T12:58:56.007915Z"
    },
    "papermill": {
     "duration": 0.048939,
     "end_time": "2021-12-30T13:02:08.512402",
     "exception": false,
     "start_time": "2021-12-30T13:02:08.463463",
     "status": "completed"
    },
    "tags": []
   },
   "outputs": [
    {
     "name": "stderr",
     "output_type": "stream",
     "text": [
      "C:\\Users\\Mech 6\\AppData\\Local\\Temp\\ipykernel_8428\\3386318422.py:1: FutureWarning: A value is trying to be set on a copy of a DataFrame or Series through chained assignment using an inplace method.\n",
      "The behavior will change in pandas 3.0. This inplace method will never work because the intermediate object on which we are setting values always behaves as a copy.\n",
      "\n",
      "For example, when doing 'df[col].method(value, inplace=True)', try using 'df.method({col: value}, inplace=True)' or df[col] = df[col].method(value) instead, to perform the operation inplace on the original object.\n",
      "\n",
      "\n",
      "  test.Fare.fillna(test.Fare.mean(), inplace=True) # fill missing values in test dataframe\n"
     ]
    }
   ],
   "source": [
    "test.Fare.fillna(test.Fare.mean(), inplace=True) # fill missing values in test dataframe"
   ]
  },
  {
   "cell_type": "code",
   "execution_count": 24,
   "id": "d5ed0134",
   "metadata": {
    "execution": {
     "iopub.execute_input": "2021-12-30T13:02:08.600154Z",
     "iopub.status.busy": "2021-12-30T13:02:08.599479Z",
     "iopub.status.idle": "2021-12-30T13:02:08.607752Z",
     "shell.execute_reply": "2021-12-30T13:02:08.607201Z",
     "shell.execute_reply.started": "2021-12-30T12:58:56.020337Z"
    },
    "papermill": {
     "duration": 0.054642,
     "end_time": "2021-12-30T13:02:08.607906",
     "exception": false,
     "start_time": "2021-12-30T13:02:08.553264",
     "status": "completed"
    },
    "tags": []
   },
   "outputs": [],
   "source": [
    "features = ['Pclass', 'Sex', 'Age' ,'SibSp', 'Parch', 'Fare', 'Embarked']\n",
    "X = pd.get_dummies(X_train[features], drop_first=True) #change categorical variables into dummy variables "
   ]
  },
  {
   "cell_type": "code",
   "execution_count": 25,
   "id": "0fe74c70",
   "metadata": {
    "execution": {
     "iopub.execute_input": "2021-12-30T13:02:08.703290Z",
     "iopub.status.busy": "2021-12-30T13:02:08.702588Z",
     "iopub.status.idle": "2021-12-30T13:02:08.705102Z",
     "shell.execute_reply": "2021-12-30T13:02:08.705585Z",
     "shell.execute_reply.started": "2021-12-30T12:58:56.037212Z"
    },
    "papermill": {
     "duration": 0.056205,
     "end_time": "2021-12-30T13:02:08.705769",
     "exception": false,
     "start_time": "2021-12-30T13:02:08.649564",
     "status": "completed"
    },
    "tags": []
   },
   "outputs": [],
   "source": [
    "test_features = ['Pclass', 'Sex', 'Age' ,'SibSp', 'Parch', 'Fare', 'Embarked']\n",
    "X_test = pd.get_dummies(test[test_features], drop_first=True)"
   ]
  },
  {
   "cell_type": "code",
   "execution_count": 26,
   "id": "8bb31e0e",
   "metadata": {
    "execution": {
     "iopub.execute_input": "2021-12-30T13:02:08.791289Z",
     "iopub.status.busy": "2021-12-30T13:02:08.790424Z",
     "iopub.status.idle": "2021-12-30T13:02:08.802536Z",
     "shell.execute_reply": "2021-12-30T13:02:08.803051Z",
     "shell.execute_reply.started": "2021-12-30T12:58:56.048228Z"
    },
    "papermill": {
     "duration": 0.05663,
     "end_time": "2021-12-30T13:02:08.803233",
     "exception": false,
     "start_time": "2021-12-30T13:02:08.746603",
     "status": "completed"
    },
    "tags": []
   },
   "outputs": [
    {
     "data": {
      "text/html": [
       "<div>\n",
       "<style scoped>\n",
       "    .dataframe tbody tr th:only-of-type {\n",
       "        vertical-align: middle;\n",
       "    }\n",
       "\n",
       "    .dataframe tbody tr th {\n",
       "        vertical-align: top;\n",
       "    }\n",
       "\n",
       "    .dataframe thead th {\n",
       "        text-align: right;\n",
       "    }\n",
       "</style>\n",
       "<table border=\"1\" class=\"dataframe\">\n",
       "  <thead>\n",
       "    <tr style=\"text-align: right;\">\n",
       "      <th></th>\n",
       "      <th>Pclass</th>\n",
       "      <th>Sex</th>\n",
       "      <th>Age</th>\n",
       "      <th>SibSp</th>\n",
       "      <th>Parch</th>\n",
       "      <th>Fare</th>\n",
       "      <th>Embarked_Q</th>\n",
       "      <th>Embarked_S</th>\n",
       "    </tr>\n",
       "  </thead>\n",
       "  <tbody>\n",
       "    <tr>\n",
       "      <th>0</th>\n",
       "      <td>3</td>\n",
       "      <td>1</td>\n",
       "      <td>22.0</td>\n",
       "      <td>1</td>\n",
       "      <td>0</td>\n",
       "      <td>7.2500</td>\n",
       "      <td>False</td>\n",
       "      <td>True</td>\n",
       "    </tr>\n",
       "    <tr>\n",
       "      <th>1</th>\n",
       "      <td>1</td>\n",
       "      <td>0</td>\n",
       "      <td>38.0</td>\n",
       "      <td>1</td>\n",
       "      <td>0</td>\n",
       "      <td>71.2833</td>\n",
       "      <td>False</td>\n",
       "      <td>False</td>\n",
       "    </tr>\n",
       "    <tr>\n",
       "      <th>2</th>\n",
       "      <td>3</td>\n",
       "      <td>0</td>\n",
       "      <td>26.0</td>\n",
       "      <td>0</td>\n",
       "      <td>0</td>\n",
       "      <td>7.9250</td>\n",
       "      <td>False</td>\n",
       "      <td>True</td>\n",
       "    </tr>\n",
       "    <tr>\n",
       "      <th>3</th>\n",
       "      <td>1</td>\n",
       "      <td>0</td>\n",
       "      <td>35.0</td>\n",
       "      <td>1</td>\n",
       "      <td>0</td>\n",
       "      <td>53.1000</td>\n",
       "      <td>False</td>\n",
       "      <td>True</td>\n",
       "    </tr>\n",
       "    <tr>\n",
       "      <th>4</th>\n",
       "      <td>3</td>\n",
       "      <td>1</td>\n",
       "      <td>35.0</td>\n",
       "      <td>0</td>\n",
       "      <td>0</td>\n",
       "      <td>8.0500</td>\n",
       "      <td>False</td>\n",
       "      <td>True</td>\n",
       "    </tr>\n",
       "  </tbody>\n",
       "</table>\n",
       "</div>"
      ],
      "text/plain": [
       "   Pclass  Sex   Age  SibSp  Parch     Fare  Embarked_Q  Embarked_S\n",
       "0       3    1  22.0      1      0   7.2500       False        True\n",
       "1       1    0  38.0      1      0  71.2833       False       False\n",
       "2       3    0  26.0      0      0   7.9250       False        True\n",
       "3       1    0  35.0      1      0  53.1000       False        True\n",
       "4       3    1  35.0      0      0   8.0500       False        True"
      ]
     },
     "execution_count": 26,
     "metadata": {},
     "output_type": "execute_result"
    }
   ],
   "source": [
    "X.head()"
   ]
  },
  {
   "cell_type": "code",
   "execution_count": 27,
   "id": "2ba5308a",
   "metadata": {
    "execution": {
     "iopub.execute_input": "2021-12-30T13:02:08.891476Z",
     "iopub.status.busy": "2021-12-30T13:02:08.888122Z",
     "iopub.status.idle": "2021-12-30T13:02:08.902514Z",
     "shell.execute_reply": "2021-12-30T13:02:08.901898Z",
     "shell.execute_reply.started": "2021-12-30T12:58:56.062903Z"
    },
    "papermill": {
     "duration": 0.058338,
     "end_time": "2021-12-30T13:02:08.902648",
     "exception": false,
     "start_time": "2021-12-30T13:02:08.844310",
     "status": "completed"
    },
    "tags": []
   },
   "outputs": [
    {
     "data": {
      "text/html": [
       "<div>\n",
       "<style scoped>\n",
       "    .dataframe tbody tr th:only-of-type {\n",
       "        vertical-align: middle;\n",
       "    }\n",
       "\n",
       "    .dataframe tbody tr th {\n",
       "        vertical-align: top;\n",
       "    }\n",
       "\n",
       "    .dataframe thead th {\n",
       "        text-align: right;\n",
       "    }\n",
       "</style>\n",
       "<table border=\"1\" class=\"dataframe\">\n",
       "  <thead>\n",
       "    <tr style=\"text-align: right;\">\n",
       "      <th></th>\n",
       "      <th>Pclass</th>\n",
       "      <th>Sex</th>\n",
       "      <th>Age</th>\n",
       "      <th>SibSp</th>\n",
       "      <th>Parch</th>\n",
       "      <th>Fare</th>\n",
       "      <th>Embarked_Q</th>\n",
       "      <th>Embarked_S</th>\n",
       "    </tr>\n",
       "  </thead>\n",
       "  <tbody>\n",
       "    <tr>\n",
       "      <th>0</th>\n",
       "      <td>3</td>\n",
       "      <td>1</td>\n",
       "      <td>34.5</td>\n",
       "      <td>0</td>\n",
       "      <td>0</td>\n",
       "      <td>7.8292</td>\n",
       "      <td>True</td>\n",
       "      <td>False</td>\n",
       "    </tr>\n",
       "    <tr>\n",
       "      <th>1</th>\n",
       "      <td>3</td>\n",
       "      <td>0</td>\n",
       "      <td>47.0</td>\n",
       "      <td>1</td>\n",
       "      <td>0</td>\n",
       "      <td>7.0000</td>\n",
       "      <td>False</td>\n",
       "      <td>True</td>\n",
       "    </tr>\n",
       "    <tr>\n",
       "      <th>2</th>\n",
       "      <td>2</td>\n",
       "      <td>1</td>\n",
       "      <td>62.0</td>\n",
       "      <td>0</td>\n",
       "      <td>0</td>\n",
       "      <td>9.6875</td>\n",
       "      <td>True</td>\n",
       "      <td>False</td>\n",
       "    </tr>\n",
       "    <tr>\n",
       "      <th>3</th>\n",
       "      <td>3</td>\n",
       "      <td>1</td>\n",
       "      <td>27.0</td>\n",
       "      <td>0</td>\n",
       "      <td>0</td>\n",
       "      <td>8.6625</td>\n",
       "      <td>False</td>\n",
       "      <td>True</td>\n",
       "    </tr>\n",
       "    <tr>\n",
       "      <th>4</th>\n",
       "      <td>3</td>\n",
       "      <td>0</td>\n",
       "      <td>22.0</td>\n",
       "      <td>1</td>\n",
       "      <td>1</td>\n",
       "      <td>12.2875</td>\n",
       "      <td>False</td>\n",
       "      <td>True</td>\n",
       "    </tr>\n",
       "  </tbody>\n",
       "</table>\n",
       "</div>"
      ],
      "text/plain": [
       "   Pclass  Sex   Age  SibSp  Parch     Fare  Embarked_Q  Embarked_S\n",
       "0       3    1  34.5      0      0   7.8292        True       False\n",
       "1       3    0  47.0      1      0   7.0000       False        True\n",
       "2       2    1  62.0      0      0   9.6875        True       False\n",
       "3       3    1  27.0      0      0   8.6625       False        True\n",
       "4       3    0  22.0      1      1  12.2875       False        True"
      ]
     },
     "execution_count": 27,
     "metadata": {},
     "output_type": "execute_result"
    }
   ],
   "source": [
    "X_test.head()"
   ]
  },
  {
   "cell_type": "code",
   "execution_count": 28,
   "id": "832ce8c5",
   "metadata": {
    "execution": {
     "iopub.execute_input": "2021-12-30T13:02:08.999235Z",
     "iopub.status.busy": "2021-12-30T13:02:08.990679Z",
     "iopub.status.idle": "2021-12-30T13:02:09.001391Z",
     "shell.execute_reply": "2021-12-30T13:02:09.001918Z",
     "shell.execute_reply.started": "2021-12-30T12:58:56.081674Z"
    },
    "papermill": {
     "duration": 0.057265,
     "end_time": "2021-12-30T13:02:09.002093",
     "exception": false,
     "start_time": "2021-12-30T13:02:08.944828",
     "status": "completed"
    },
    "tags": []
   },
   "outputs": [
    {
     "name": "stdout",
     "output_type": "stream",
     "text": [
      "<class 'pandas.core.frame.DataFrame'>\n",
      "RangeIndex: 418 entries, 0 to 417\n",
      "Data columns (total 8 columns):\n",
      " #   Column      Non-Null Count  Dtype  \n",
      "---  ------      --------------  -----  \n",
      " 0   Pclass      418 non-null    int64  \n",
      " 1   Sex         418 non-null    int64  \n",
      " 2   Age         418 non-null    float64\n",
      " 3   SibSp       418 non-null    int64  \n",
      " 4   Parch       418 non-null    int64  \n",
      " 5   Fare        418 non-null    float64\n",
      " 6   Embarked_Q  418 non-null    bool   \n",
      " 7   Embarked_S  418 non-null    bool   \n",
      "dtypes: bool(2), float64(2), int64(4)\n",
      "memory usage: 20.5 KB\n"
     ]
    }
   ],
   "source": [
    "X_test.info()"
   ]
  },
  {
   "cell_type": "code",
   "execution_count": 29,
   "id": "42f8c602",
   "metadata": {
    "execution": {
     "iopub.execute_input": "2021-12-30T13:02:09.090849Z",
     "iopub.status.busy": "2021-12-30T13:02:09.090197Z",
     "iopub.status.idle": "2021-12-30T13:02:09.101537Z",
     "shell.execute_reply": "2021-12-30T13:02:09.102038Z",
     "shell.execute_reply.started": "2021-12-30T12:58:56.095931Z"
    },
    "papermill": {
     "duration": 0.058152,
     "end_time": "2021-12-30T13:02:09.102216",
     "exception": false,
     "start_time": "2021-12-30T13:02:09.044064",
     "status": "completed"
    },
    "tags": []
   },
   "outputs": [
    {
     "name": "stdout",
     "output_type": "stream",
     "text": [
      "<class 'pandas.core.frame.DataFrame'>\n",
      "RangeIndex: 891 entries, 0 to 890\n",
      "Data columns (total 8 columns):\n",
      " #   Column      Non-Null Count  Dtype  \n",
      "---  ------      --------------  -----  \n",
      " 0   Pclass      891 non-null    int64  \n",
      " 1   Sex         891 non-null    int64  \n",
      " 2   Age         891 non-null    float64\n",
      " 3   SibSp       891 non-null    int64  \n",
      " 4   Parch       891 non-null    int64  \n",
      " 5   Fare        891 non-null    float64\n",
      " 6   Embarked_Q  891 non-null    bool   \n",
      " 7   Embarked_S  891 non-null    bool   \n",
      "dtypes: bool(2), float64(2), int64(4)\n",
      "memory usage: 43.6 KB\n"
     ]
    }
   ],
   "source": [
    "X.info()"
   ]
  },
  {
   "cell_type": "markdown",
   "id": "5700092d",
   "metadata": {
    "papermill": {
     "duration": 0.041897,
     "end_time": "2021-12-30T13:02:09.186474",
     "exception": false,
     "start_time": "2021-12-30T13:02:09.144577",
     "status": "completed"
    },
    "tags": []
   },
   "source": [
    "**We finished our tasks on both dataframes**\n",
    "\n",
    "Those dataframes are ready for fitting!"
   ]
  },
  {
   "cell_type": "code",
   "execution_count": 31,
   "id": "cae13413",
   "metadata": {
    "execution": {
     "iopub.execute_input": "2021-12-30T13:02:09.276590Z",
     "iopub.status.busy": "2021-12-30T13:02:09.275618Z",
     "iopub.status.idle": "2021-12-30T13:02:09.613729Z",
     "shell.execute_reply": "2021-12-30T13:02:09.612939Z",
     "shell.execute_reply.started": "2021-12-30T12:58:56.109085Z"
    },
    "papermill": {
     "duration": 0.385398,
     "end_time": "2021-12-30T13:02:09.613948",
     "exception": false,
     "start_time": "2021-12-30T13:02:09.228550",
     "status": "completed"
    },
    "tags": []
   },
   "outputs": [
    {
     "data": {
      "text/html": [
       "<style>#sk-container-id-1 {\n",
       "  /* Definition of color scheme common for light and dark mode */\n",
       "  --sklearn-color-text: black;\n",
       "  --sklearn-color-line: gray;\n",
       "  /* Definition of color scheme for unfitted estimators */\n",
       "  --sklearn-color-unfitted-level-0: #fff5e6;\n",
       "  --sklearn-color-unfitted-level-1: #f6e4d2;\n",
       "  --sklearn-color-unfitted-level-2: #ffe0b3;\n",
       "  --sklearn-color-unfitted-level-3: chocolate;\n",
       "  /* Definition of color scheme for fitted estimators */\n",
       "  --sklearn-color-fitted-level-0: #f0f8ff;\n",
       "  --sklearn-color-fitted-level-1: #d4ebff;\n",
       "  --sklearn-color-fitted-level-2: #b3dbfd;\n",
       "  --sklearn-color-fitted-level-3: cornflowerblue;\n",
       "\n",
       "  /* Specific color for light theme */\n",
       "  --sklearn-color-text-on-default-background: var(--sg-text-color, var(--theme-code-foreground, var(--jp-content-font-color1, black)));\n",
       "  --sklearn-color-background: var(--sg-background-color, var(--theme-background, var(--jp-layout-color0, white)));\n",
       "  --sklearn-color-border-box: var(--sg-text-color, var(--theme-code-foreground, var(--jp-content-font-color1, black)));\n",
       "  --sklearn-color-icon: #696969;\n",
       "\n",
       "  @media (prefers-color-scheme: dark) {\n",
       "    /* Redefinition of color scheme for dark theme */\n",
       "    --sklearn-color-text-on-default-background: var(--sg-text-color, var(--theme-code-foreground, var(--jp-content-font-color1, white)));\n",
       "    --sklearn-color-background: var(--sg-background-color, var(--theme-background, var(--jp-layout-color0, #111)));\n",
       "    --sklearn-color-border-box: var(--sg-text-color, var(--theme-code-foreground, var(--jp-content-font-color1, white)));\n",
       "    --sklearn-color-icon: #878787;\n",
       "  }\n",
       "}\n",
       "\n",
       "#sk-container-id-1 {\n",
       "  color: var(--sklearn-color-text);\n",
       "}\n",
       "\n",
       "#sk-container-id-1 pre {\n",
       "  padding: 0;\n",
       "}\n",
       "\n",
       "#sk-container-id-1 input.sk-hidden--visually {\n",
       "  border: 0;\n",
       "  clip: rect(1px 1px 1px 1px);\n",
       "  clip: rect(1px, 1px, 1px, 1px);\n",
       "  height: 1px;\n",
       "  margin: -1px;\n",
       "  overflow: hidden;\n",
       "  padding: 0;\n",
       "  position: absolute;\n",
       "  width: 1px;\n",
       "}\n",
       "\n",
       "#sk-container-id-1 div.sk-dashed-wrapped {\n",
       "  border: 1px dashed var(--sklearn-color-line);\n",
       "  margin: 0 0.4em 0.5em 0.4em;\n",
       "  box-sizing: border-box;\n",
       "  padding-bottom: 0.4em;\n",
       "  background-color: var(--sklearn-color-background);\n",
       "}\n",
       "\n",
       "#sk-container-id-1 div.sk-container {\n",
       "  /* jupyter's `normalize.less` sets `[hidden] { display: none; }`\n",
       "     but bootstrap.min.css set `[hidden] { display: none !important; }`\n",
       "     so we also need the `!important` here to be able to override the\n",
       "     default hidden behavior on the sphinx rendered scikit-learn.org.\n",
       "     See: https://github.com/scikit-learn/scikit-learn/issues/21755 */\n",
       "  display: inline-block !important;\n",
       "  position: relative;\n",
       "}\n",
       "\n",
       "#sk-container-id-1 div.sk-text-repr-fallback {\n",
       "  display: none;\n",
       "}\n",
       "\n",
       "div.sk-parallel-item,\n",
       "div.sk-serial,\n",
       "div.sk-item {\n",
       "  /* draw centered vertical line to link estimators */\n",
       "  background-image: linear-gradient(var(--sklearn-color-text-on-default-background), var(--sklearn-color-text-on-default-background));\n",
       "  background-size: 2px 100%;\n",
       "  background-repeat: no-repeat;\n",
       "  background-position: center center;\n",
       "}\n",
       "\n",
       "/* Parallel-specific style estimator block */\n",
       "\n",
       "#sk-container-id-1 div.sk-parallel-item::after {\n",
       "  content: \"\";\n",
       "  width: 100%;\n",
       "  border-bottom: 2px solid var(--sklearn-color-text-on-default-background);\n",
       "  flex-grow: 1;\n",
       "}\n",
       "\n",
       "#sk-container-id-1 div.sk-parallel {\n",
       "  display: flex;\n",
       "  align-items: stretch;\n",
       "  justify-content: center;\n",
       "  background-color: var(--sklearn-color-background);\n",
       "  position: relative;\n",
       "}\n",
       "\n",
       "#sk-container-id-1 div.sk-parallel-item {\n",
       "  display: flex;\n",
       "  flex-direction: column;\n",
       "}\n",
       "\n",
       "#sk-container-id-1 div.sk-parallel-item:first-child::after {\n",
       "  align-self: flex-end;\n",
       "  width: 50%;\n",
       "}\n",
       "\n",
       "#sk-container-id-1 div.sk-parallel-item:last-child::after {\n",
       "  align-self: flex-start;\n",
       "  width: 50%;\n",
       "}\n",
       "\n",
       "#sk-container-id-1 div.sk-parallel-item:only-child::after {\n",
       "  width: 0;\n",
       "}\n",
       "\n",
       "/* Serial-specific style estimator block */\n",
       "\n",
       "#sk-container-id-1 div.sk-serial {\n",
       "  display: flex;\n",
       "  flex-direction: column;\n",
       "  align-items: center;\n",
       "  background-color: var(--sklearn-color-background);\n",
       "  padding-right: 1em;\n",
       "  padding-left: 1em;\n",
       "}\n",
       "\n",
       "\n",
       "/* Toggleable style: style used for estimator/Pipeline/ColumnTransformer box that is\n",
       "clickable and can be expanded/collapsed.\n",
       "- Pipeline and ColumnTransformer use this feature and define the default style\n",
       "- Estimators will overwrite some part of the style using the `sk-estimator` class\n",
       "*/\n",
       "\n",
       "/* Pipeline and ColumnTransformer style (default) */\n",
       "\n",
       "#sk-container-id-1 div.sk-toggleable {\n",
       "  /* Default theme specific background. It is overwritten whether we have a\n",
       "  specific estimator or a Pipeline/ColumnTransformer */\n",
       "  background-color: var(--sklearn-color-background);\n",
       "}\n",
       "\n",
       "/* Toggleable label */\n",
       "#sk-container-id-1 label.sk-toggleable__label {\n",
       "  cursor: pointer;\n",
       "  display: block;\n",
       "  width: 100%;\n",
       "  margin-bottom: 0;\n",
       "  padding: 0.5em;\n",
       "  box-sizing: border-box;\n",
       "  text-align: center;\n",
       "}\n",
       "\n",
       "#sk-container-id-1 label.sk-toggleable__label-arrow:before {\n",
       "  /* Arrow on the left of the label */\n",
       "  content: \"▸\";\n",
       "  float: left;\n",
       "  margin-right: 0.25em;\n",
       "  color: var(--sklearn-color-icon);\n",
       "}\n",
       "\n",
       "#sk-container-id-1 label.sk-toggleable__label-arrow:hover:before {\n",
       "  color: var(--sklearn-color-text);\n",
       "}\n",
       "\n",
       "/* Toggleable content - dropdown */\n",
       "\n",
       "#sk-container-id-1 div.sk-toggleable__content {\n",
       "  max-height: 0;\n",
       "  max-width: 0;\n",
       "  overflow: hidden;\n",
       "  text-align: left;\n",
       "  /* unfitted */\n",
       "  background-color: var(--sklearn-color-unfitted-level-0);\n",
       "}\n",
       "\n",
       "#sk-container-id-1 div.sk-toggleable__content.fitted {\n",
       "  /* fitted */\n",
       "  background-color: var(--sklearn-color-fitted-level-0);\n",
       "}\n",
       "\n",
       "#sk-container-id-1 div.sk-toggleable__content pre {\n",
       "  margin: 0.2em;\n",
       "  border-radius: 0.25em;\n",
       "  color: var(--sklearn-color-text);\n",
       "  /* unfitted */\n",
       "  background-color: var(--sklearn-color-unfitted-level-0);\n",
       "}\n",
       "\n",
       "#sk-container-id-1 div.sk-toggleable__content.fitted pre {\n",
       "  /* unfitted */\n",
       "  background-color: var(--sklearn-color-fitted-level-0);\n",
       "}\n",
       "\n",
       "#sk-container-id-1 input.sk-toggleable__control:checked~div.sk-toggleable__content {\n",
       "  /* Expand drop-down */\n",
       "  max-height: 200px;\n",
       "  max-width: 100%;\n",
       "  overflow: auto;\n",
       "}\n",
       "\n",
       "#sk-container-id-1 input.sk-toggleable__control:checked~label.sk-toggleable__label-arrow:before {\n",
       "  content: \"▾\";\n",
       "}\n",
       "\n",
       "/* Pipeline/ColumnTransformer-specific style */\n",
       "\n",
       "#sk-container-id-1 div.sk-label input.sk-toggleable__control:checked~label.sk-toggleable__label {\n",
       "  color: var(--sklearn-color-text);\n",
       "  background-color: var(--sklearn-color-unfitted-level-2);\n",
       "}\n",
       "\n",
       "#sk-container-id-1 div.sk-label.fitted input.sk-toggleable__control:checked~label.sk-toggleable__label {\n",
       "  background-color: var(--sklearn-color-fitted-level-2);\n",
       "}\n",
       "\n",
       "/* Estimator-specific style */\n",
       "\n",
       "/* Colorize estimator box */\n",
       "#sk-container-id-1 div.sk-estimator input.sk-toggleable__control:checked~label.sk-toggleable__label {\n",
       "  /* unfitted */\n",
       "  background-color: var(--sklearn-color-unfitted-level-2);\n",
       "}\n",
       "\n",
       "#sk-container-id-1 div.sk-estimator.fitted input.sk-toggleable__control:checked~label.sk-toggleable__label {\n",
       "  /* fitted */\n",
       "  background-color: var(--sklearn-color-fitted-level-2);\n",
       "}\n",
       "\n",
       "#sk-container-id-1 div.sk-label label.sk-toggleable__label,\n",
       "#sk-container-id-1 div.sk-label label {\n",
       "  /* The background is the default theme color */\n",
       "  color: var(--sklearn-color-text-on-default-background);\n",
       "}\n",
       "\n",
       "/* On hover, darken the color of the background */\n",
       "#sk-container-id-1 div.sk-label:hover label.sk-toggleable__label {\n",
       "  color: var(--sklearn-color-text);\n",
       "  background-color: var(--sklearn-color-unfitted-level-2);\n",
       "}\n",
       "\n",
       "/* Label box, darken color on hover, fitted */\n",
       "#sk-container-id-1 div.sk-label.fitted:hover label.sk-toggleable__label.fitted {\n",
       "  color: var(--sklearn-color-text);\n",
       "  background-color: var(--sklearn-color-fitted-level-2);\n",
       "}\n",
       "\n",
       "/* Estimator label */\n",
       "\n",
       "#sk-container-id-1 div.sk-label label {\n",
       "  font-family: monospace;\n",
       "  font-weight: bold;\n",
       "  display: inline-block;\n",
       "  line-height: 1.2em;\n",
       "}\n",
       "\n",
       "#sk-container-id-1 div.sk-label-container {\n",
       "  text-align: center;\n",
       "}\n",
       "\n",
       "/* Estimator-specific */\n",
       "#sk-container-id-1 div.sk-estimator {\n",
       "  font-family: monospace;\n",
       "  border: 1px dotted var(--sklearn-color-border-box);\n",
       "  border-radius: 0.25em;\n",
       "  box-sizing: border-box;\n",
       "  margin-bottom: 0.5em;\n",
       "  /* unfitted */\n",
       "  background-color: var(--sklearn-color-unfitted-level-0);\n",
       "}\n",
       "\n",
       "#sk-container-id-1 div.sk-estimator.fitted {\n",
       "  /* fitted */\n",
       "  background-color: var(--sklearn-color-fitted-level-0);\n",
       "}\n",
       "\n",
       "/* on hover */\n",
       "#sk-container-id-1 div.sk-estimator:hover {\n",
       "  /* unfitted */\n",
       "  background-color: var(--sklearn-color-unfitted-level-2);\n",
       "}\n",
       "\n",
       "#sk-container-id-1 div.sk-estimator.fitted:hover {\n",
       "  /* fitted */\n",
       "  background-color: var(--sklearn-color-fitted-level-2);\n",
       "}\n",
       "\n",
       "/* Specification for estimator info (e.g. \"i\" and \"?\") */\n",
       "\n",
       "/* Common style for \"i\" and \"?\" */\n",
       "\n",
       ".sk-estimator-doc-link,\n",
       "a:link.sk-estimator-doc-link,\n",
       "a:visited.sk-estimator-doc-link {\n",
       "  float: right;\n",
       "  font-size: smaller;\n",
       "  line-height: 1em;\n",
       "  font-family: monospace;\n",
       "  background-color: var(--sklearn-color-background);\n",
       "  border-radius: 1em;\n",
       "  height: 1em;\n",
       "  width: 1em;\n",
       "  text-decoration: none !important;\n",
       "  margin-left: 1ex;\n",
       "  /* unfitted */\n",
       "  border: var(--sklearn-color-unfitted-level-1) 1pt solid;\n",
       "  color: var(--sklearn-color-unfitted-level-1);\n",
       "}\n",
       "\n",
       ".sk-estimator-doc-link.fitted,\n",
       "a:link.sk-estimator-doc-link.fitted,\n",
       "a:visited.sk-estimator-doc-link.fitted {\n",
       "  /* fitted */\n",
       "  border: var(--sklearn-color-fitted-level-1) 1pt solid;\n",
       "  color: var(--sklearn-color-fitted-level-1);\n",
       "}\n",
       "\n",
       "/* On hover */\n",
       "div.sk-estimator:hover .sk-estimator-doc-link:hover,\n",
       ".sk-estimator-doc-link:hover,\n",
       "div.sk-label-container:hover .sk-estimator-doc-link:hover,\n",
       ".sk-estimator-doc-link:hover {\n",
       "  /* unfitted */\n",
       "  background-color: var(--sklearn-color-unfitted-level-3);\n",
       "  color: var(--sklearn-color-background);\n",
       "  text-decoration: none;\n",
       "}\n",
       "\n",
       "div.sk-estimator.fitted:hover .sk-estimator-doc-link.fitted:hover,\n",
       ".sk-estimator-doc-link.fitted:hover,\n",
       "div.sk-label-container:hover .sk-estimator-doc-link.fitted:hover,\n",
       ".sk-estimator-doc-link.fitted:hover {\n",
       "  /* fitted */\n",
       "  background-color: var(--sklearn-color-fitted-level-3);\n",
       "  color: var(--sklearn-color-background);\n",
       "  text-decoration: none;\n",
       "}\n",
       "\n",
       "/* Span, style for the box shown on hovering the info icon */\n",
       ".sk-estimator-doc-link span {\n",
       "  display: none;\n",
       "  z-index: 9999;\n",
       "  position: relative;\n",
       "  font-weight: normal;\n",
       "  right: .2ex;\n",
       "  padding: .5ex;\n",
       "  margin: .5ex;\n",
       "  width: min-content;\n",
       "  min-width: 20ex;\n",
       "  max-width: 50ex;\n",
       "  color: var(--sklearn-color-text);\n",
       "  box-shadow: 2pt 2pt 4pt #999;\n",
       "  /* unfitted */\n",
       "  background: var(--sklearn-color-unfitted-level-0);\n",
       "  border: .5pt solid var(--sklearn-color-unfitted-level-3);\n",
       "}\n",
       "\n",
       ".sk-estimator-doc-link.fitted span {\n",
       "  /* fitted */\n",
       "  background: var(--sklearn-color-fitted-level-0);\n",
       "  border: var(--sklearn-color-fitted-level-3);\n",
       "}\n",
       "\n",
       ".sk-estimator-doc-link:hover span {\n",
       "  display: block;\n",
       "}\n",
       "\n",
       "/* \"?\"-specific style due to the `<a>` HTML tag */\n",
       "\n",
       "#sk-container-id-1 a.estimator_doc_link {\n",
       "  float: right;\n",
       "  font-size: 1rem;\n",
       "  line-height: 1em;\n",
       "  font-family: monospace;\n",
       "  background-color: var(--sklearn-color-background);\n",
       "  border-radius: 1rem;\n",
       "  height: 1rem;\n",
       "  width: 1rem;\n",
       "  text-decoration: none;\n",
       "  /* unfitted */\n",
       "  color: var(--sklearn-color-unfitted-level-1);\n",
       "  border: var(--sklearn-color-unfitted-level-1) 1pt solid;\n",
       "}\n",
       "\n",
       "#sk-container-id-1 a.estimator_doc_link.fitted {\n",
       "  /* fitted */\n",
       "  border: var(--sklearn-color-fitted-level-1) 1pt solid;\n",
       "  color: var(--sklearn-color-fitted-level-1);\n",
       "}\n",
       "\n",
       "/* On hover */\n",
       "#sk-container-id-1 a.estimator_doc_link:hover {\n",
       "  /* unfitted */\n",
       "  background-color: var(--sklearn-color-unfitted-level-3);\n",
       "  color: var(--sklearn-color-background);\n",
       "  text-decoration: none;\n",
       "}\n",
       "\n",
       "#sk-container-id-1 a.estimator_doc_link.fitted:hover {\n",
       "  /* fitted */\n",
       "  background-color: var(--sklearn-color-fitted-level-3);\n",
       "}\n",
       "</style><div id=\"sk-container-id-1\" class=\"sk-top-container\"><div class=\"sk-text-repr-fallback\"><pre>LogisticRegression(random_state=7, solver=&#x27;liblinear&#x27;)</pre><b>In a Jupyter environment, please rerun this cell to show the HTML representation or trust the notebook. <br />On GitHub, the HTML representation is unable to render, please try loading this page with nbviewer.org.</b></div><div class=\"sk-container\" hidden><div class=\"sk-item\"><div class=\"sk-estimator fitted sk-toggleable\"><input class=\"sk-toggleable__control sk-hidden--visually\" id=\"sk-estimator-id-1\" type=\"checkbox\" checked><label for=\"sk-estimator-id-1\" class=\"sk-toggleable__label fitted sk-toggleable__label-arrow fitted\">&nbsp;&nbsp;LogisticRegression<a class=\"sk-estimator-doc-link fitted\" rel=\"noreferrer\" target=\"_blank\" href=\"https://scikit-learn.org/1.4/modules/generated/sklearn.linear_model.LogisticRegression.html\">?<span>Documentation for LogisticRegression</span></a><span class=\"sk-estimator-doc-link fitted\">i<span>Fitted</span></span></label><div class=\"sk-toggleable__content fitted\"><pre>LogisticRegression(random_state=7, solver=&#x27;liblinear&#x27;)</pre></div> </div></div></div></div>"
      ],
      "text/plain": [
       "LogisticRegression(random_state=7, solver='liblinear')"
      ]
     },
     "execution_count": 31,
     "metadata": {},
     "output_type": "execute_result"
    }
   ],
   "source": [
    "from sklearn.linear_model import LogisticRegression\n",
    "logreg = LogisticRegression(random_state=7, solver='liblinear') # i have used solver as a liblinear because i have binary values like 0 and 1\n",
    "logreg.fit(X, y_train)\n"
   ]
  },
  {
   "cell_type": "code",
   "execution_count": 32,
   "id": "6a895261",
   "metadata": {
    "execution": {
     "iopub.execute_input": "2021-12-30T13:02:09.709602Z",
     "iopub.status.busy": "2021-12-30T13:02:09.708747Z",
     "iopub.status.idle": "2021-12-30T13:02:09.712360Z",
     "shell.execute_reply": "2021-12-30T13:02:09.711842Z",
     "shell.execute_reply.started": "2021-12-30T12:58:56.124697Z"
    },
    "papermill": {
     "duration": 0.05437,
     "end_time": "2021-12-30T13:02:09.712495",
     "exception": false,
     "start_time": "2021-12-30T13:02:09.658125",
     "status": "completed"
    },
    "tags": []
   },
   "outputs": [
    {
     "data": {
      "text/plain": [
       "0.7991021324354658"
      ]
     },
     "execution_count": 32,
     "metadata": {},
     "output_type": "execute_result"
    }
   ],
   "source": [
    "logreg.score(X, y_train)"
   ]
  },
  {
   "cell_type": "markdown",
   "id": "351002fa",
   "metadata": {
    "papermill": {
     "duration": 0.042444,
     "end_time": "2021-12-30T13:02:09.797863",
     "exception": false,
     "start_time": "2021-12-30T13:02:09.755419",
     "status": "completed"
    },
    "tags": []
   },
   "source": [
    "My model score is **0.79910**, when i have implemented **LogisticRegression**"
   ]
  },
  {
   "cell_type": "code",
   "execution_count": 33,
   "id": "27b7faf0",
   "metadata": {
    "execution": {
     "iopub.execute_input": "2021-12-30T13:02:09.890297Z",
     "iopub.status.busy": "2021-12-30T13:02:09.889368Z",
     "iopub.status.idle": "2021-12-30T13:02:09.893300Z",
     "shell.execute_reply": "2021-12-30T13:02:09.892610Z",
     "shell.execute_reply.started": "2021-12-30T12:58:56.135151Z"
    },
    "papermill": {
     "duration": 0.052845,
     "end_time": "2021-12-30T13:02:09.893443",
     "exception": false,
     "start_time": "2021-12-30T13:02:09.840598",
     "status": "completed"
    },
    "tags": []
   },
   "outputs": [],
   "source": [
    "preds = logreg.predict(X_test)"
   ]
  },
  {
   "cell_type": "code",
   "execution_count": 34,
   "id": "9cc2879b",
   "metadata": {
    "execution": {
     "iopub.execute_input": "2021-12-30T13:02:09.985753Z",
     "iopub.status.busy": "2021-12-30T13:02:09.985087Z",
     "iopub.status.idle": "2021-12-30T13:02:09.990965Z",
     "shell.execute_reply": "2021-12-30T13:02:09.991474Z",
     "shell.execute_reply.started": "2021-12-30T12:58:56.144518Z"
    },
    "papermill": {
     "duration": 0.05538,
     "end_time": "2021-12-30T13:02:09.991656",
     "exception": false,
     "start_time": "2021-12-30T13:02:09.936276",
     "status": "completed"
    },
    "tags": []
   },
   "outputs": [],
   "source": [
    "output = pd.DataFrame({'PassengerId': test.PassengerId, 'Survived': preds})\n",
    "output.to_csv('LogisticRegressionv1.csv', index=False)"
   ]
  },
  {
   "cell_type": "markdown",
   "id": "6f342c8c",
   "metadata": {
    "papermill": {
     "duration": 0.043793,
     "end_time": "2021-12-30T13:02:10.078761",
     "exception": false,
     "start_time": "2021-12-30T13:02:10.034968",
     "status": "completed"
    },
    "tags": []
   },
   "source": [
    "Thank you, Kagglers!\n",
    "Share your ideas abour my notebook and upvote if it was useful!\n",
    "Happy New Year to everyone!"
   ]
  }
 ],
 "metadata": {
  "kernelspec": {
   "display_name": "Python 3",
   "language": "python",
   "name": "python3"
  },
  "language_info": {
   "codemirror_mode": {
    "name": "ipython",
    "version": 3
   },
   "file_extension": ".py",
   "mimetype": "text/x-python",
   "name": "python",
   "nbconvert_exporter": "python",
   "pygments_lexer": "ipython3",
   "version": "3.12.3"
  },
  "papermill": {
   "default_parameters": {},
   "duration": 19.077587,
   "end_time": "2021-12-30T13:02:10.831631",
   "environment_variables": {},
   "exception": null,
   "input_path": "__notebook__.ipynb",
   "output_path": "__notebook__.ipynb",
   "parameters": {},
   "start_time": "2021-12-30T13:01:51.754044",
   "version": "2.3.3"
  }
 },
 "nbformat": 4,
 "nbformat_minor": 5
}
